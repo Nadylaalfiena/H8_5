{
 "cells": [
  {
   "cell_type": "code",
   "execution_count": 2,
   "id": "217e6275",
   "metadata": {},
   "outputs": [],
   "source": [
    "import numpy as np"
   ]
  },
  {
   "cell_type": "code",
   "execution_count": 3,
   "id": "11afa3e5",
   "metadata": {},
   "outputs": [
    {
     "name": "stdout",
     "output_type": "stream",
     "text": [
      "[ 1  2  3  4  5  6  7  8  9 10 11 12 13 14 15]\n"
     ]
    }
   ],
   "source": [
    "nilai = np.arange (1,16)\n",
    "print (nilai)"
   ]
  },
  {
   "cell_type": "code",
   "execution_count": 4,
   "id": "a510c343",
   "metadata": {},
   "outputs": [
    {
     "data": {
      "text/plain": [
       "array([15, 20, 25, 35, 40, 43, 50])"
      ]
     },
     "execution_count": 4,
     "metadata": {},
     "output_type": "execute_result"
    }
   ],
   "source": [
    "nilaijang = np.array ([15,20,25,35,40,43,50])\n",
    "nilaijang"
   ]
  },
  {
   "cell_type": "code",
   "execution_count": 5,
   "id": "aa9d221c",
   "metadata": {},
   "outputs": [
    {
     "data": {
      "text/plain": [
       "50"
      ]
     },
     "execution_count": 5,
     "metadata": {},
     "output_type": "execute_result"
    }
   ],
   "source": [
    "nilaimax = nilaijang.max()\n",
    "nilaimax"
   ]
  },
  {
   "cell_type": "code",
   "execution_count": 6,
   "id": "5e723604",
   "metadata": {},
   "outputs": [
    {
     "data": {
      "text/plain": [
       "15"
      ]
     },
     "execution_count": 6,
     "metadata": {},
     "output_type": "execute_result"
    }
   ],
   "source": [
    "nilaimin = nilaijang.min()\n",
    "nilaimin"
   ]
  },
  {
   "cell_type": "code",
   "execution_count": 7,
   "id": "cfa6920b",
   "metadata": {},
   "outputs": [
    {
     "name": "stdout",
     "output_type": "stream",
     "text": [
      "Hasil Jangkauan :  35\n"
     ]
    }
   ],
   "source": [
    "hasil = nilaimax - nilaimin\n",
    "print (\"Hasil Jangkauan : \",hasil)"
   ]
  },
  {
   "cell_type": "code",
   "execution_count": null,
   "id": "42194afd",
   "metadata": {},
   "outputs": [],
   "source": []
  }
 ],
 "metadata": {
  "kernelspec": {
   "display_name": "Python 3 (ipykernel)",
   "language": "python",
   "name": "python3"
  },
  "language_info": {
   "codemirror_mode": {
    "name": "ipython",
    "version": 3
   },
   "file_extension": ".py",
   "mimetype": "text/x-python",
   "name": "python",
   "nbconvert_exporter": "python",
   "pygments_lexer": "ipython3",
   "version": "3.11.5"
  }
 },
 "nbformat": 4,
 "nbformat_minor": 5
}
